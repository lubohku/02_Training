{
 "cells": [
  {
   "cell_type": "code",
   "execution_count": 18,
   "metadata": {},
   "outputs": [
    {
     "name": "stdout",
     "output_type": "stream",
     "text": [
      "1/0\n",
      "2/0\n",
      "3/0\n",
      "4/0\n"
     ]
    },
    {
     "data": {
      "text/plain": [
       "<klayout.dbcore.Layout at 0x18e7913a180>"
      ]
     },
     "execution_count": 18,
     "metadata": {},
     "output_type": "execute_result"
    }
   ],
   "source": [
    "import pya\n",
    "import numpy as np\n",
    "\n",
    "layout = pya.Layout()\n",
    "top = layout.create_cell('TOP')\n",
    "\n",
    "l0000 = layout.layer(1000, 0)\n",
    "l0001 = layout.layer(1000, 1)\n",
    "l00 = layout.layer(0, 0) # Isolation\n",
    "l10 = layout.layer(1, 0) # Mesa\n",
    "l20 = layout.layer(2, 0) # CSL\n",
    "l30 = layout.layer(3, 0) # ELEC\n",
    "l40 = layout.layer(4, 0) # ContactHole\n",
    "l41 = layout.layer(4, 1) # Oxide\n",
    "\n",
    "##################################  parameters for the mask  ###################################\n",
    "factor = 1000\n",
    "\n",
    "mask_size = 10*10**4*factor\n",
    "mask_bound = pya.Box(0, 0, mask_size, mask_size)\n",
    "wafer_bound = pya.Path([pya.Point(mask_size/2, mask_size/2)], mask_size, mask_size/2, mask_size/2, True)\n",
    "\n",
    "led_x = 30*factor\n",
    "led_y = 100*factor\n",
    "p_y = 60*factor\n",
    "n_y = 30*factor\n",
    "\n",
    "ly_gap = 5*factor\n",
    "hole_r = 12*factor\n",
    "\n",
    "##################################  deep etch isolation  ###################################\n",
    "led = layout.create_cell(\"LED\")\n",
    "led.shapes(l00).insert(pya.Box(0-2*factor, 0-2*factor, led_x+2*factor, led_y+2*factor))\n",
    "\n",
    "##################################  LED Cell  ###################################\n",
    "\n",
    "led.shapes(l10).insert(pya.Box(0, led_y-p_y, led_x, led_y))\n",
    "led.shapes(l20).insert(pya.Box(ly_gap, led_y-p_y+ly_gap, led_x-ly_gap, led_y-ly_gap))\n",
    "led.shapes(l30).insert(pya.Box(ly_gap, led_y-p_y+ly_gap, led_x-ly_gap, led_y-ly_gap))\n",
    "# led.shapes(l30).insert(pya.Box(0, 0, led_x, n_y))\n",
    "# led.shapes(l30).insert(pya.Path([pya.Point(led_x/2,n_y/2)],30*factor,15*factor,15*factor,True))\n",
    "# led.shapes(l40).insert(pya.Path([pya.Point(led_x/2,led_y-p_y/2)],2*hole_r,hole_r,hole_r,True))\n",
    "# led.shapes(l40).insert(pya.Path([pya.Point(led_x/2,n_y/2)],2*hole_r,hole_r,hole_r,True))\n",
    "\n",
    "radius1 = 15*factor\n",
    "radius2 = 15*factor\n",
    "nr_points = 32\n",
    "angles = np.linspace(0,2*np.pi,nr_points+1)[0:-1]\n",
    "points1 = []\n",
    "points2 = []\n",
    "for angle in angles:\n",
    "    points1.append(pya.Point(radius1*np.cos(angle),radius1*np.sin(angle)))\n",
    "    points2.append(pya.Point(radius2*np.cos(angle),radius2*np.sin(angle)))\n",
    "circle1 = pya.SimplePolygon(points1).moved(15*factor, 15*factor)\n",
    "circle2 = pya.SimplePolygon(points1).moved(15*factor, 70*factor)\n",
    "circle3 = pya.SimplePolygon(points2).moved(15*factor, 15*factor)\n",
    "led.shapes(l40).insert(circle1)\n",
    "led.shapes(l40).insert(circle2)\n",
    "led.shapes(l30).insert(circle3)\n",
    "\n",
    "##################################  LEDs Cell  ###################################\n",
    "leds = layout.create_cell(\"LEDs\")\n",
    "leds.insert(pya.CellInstArray(led.cell_index(), pya.Trans(0, 0)))\n",
    "leds.insert(pya.CellInstArray(led.cell_index(), pya.CplxTrans(1, 45, False, 15*factor, -15*factor*(np.sqrt(2)-1))))\n",
    "leds.insert(pya.CellInstArray(led.cell_index(), pya.Trans(30*factor, 0)*pya.Trans.R90))\n",
    "leds.insert(pya.CellInstArray(led.cell_index(), pya.CplxTrans(1, 135, False, 15*factor*(np.sqrt(2)+1), 15*factor)))\n",
    "leds.insert(pya.CellInstArray(led.cell_index(), pya.Trans(0, 30*factor)*pya.Trans.M0))\n",
    "leds.insert(pya.CellInstArray(led.cell_index(), pya.CplxTrans(1, -135, False, 15*factor, 15*factor*(np.sqrt(2)+1))))\n",
    "leds.insert(pya.CellInstArray(led.cell_index(), pya.Trans(0, 30*factor)*pya.Trans.R270))\n",
    "leds.insert(pya.CellInstArray(led.cell_index(), pya.CplxTrans(1, -45, False, -15*factor*(np.sqrt(2)-1), 15*factor)))\n",
    "\n",
    "##################################  TOP Cell  ###################################\n",
    "i = 600\n",
    "array_x = 300*factor\n",
    "array_y = 300*factor\n",
    "# trans = pya.Trans(pya.Point(mask_size/2, mask_size/2))\n",
    "trans = pya.Trans(pya.Point(5000*factor, 5000*factor))\n",
    "new_instance = pya.CellInstArray(leds.cell_index(),trans,pya.Vector(array_x, 0 ), pya.Vector(0, array_y), i/2, i/2)\n",
    "top.insert(new_instance)\n",
    "top.shapes(l0000).insert(mask_bound)\n",
    "top.shapes(l0001).insert(wafer_bound)\n",
    "\n",
    "##################################  NFF: small boxes for each mask layer  ###################################\n",
    "ly_list = layout.layer_indexes()\n",
    "for ly in ly_list:\n",
    "    ly_data = str(layout.get_info(ly))\n",
    "    # print(ly_data)\n",
    "    \n",
    "    if int(ly_data.split('/')[0]) > 0 and int(ly_data.split('/')[0]) <1000 and ly_data.split('/')[1] == '0':\n",
    "        print(ly_data)\n",
    "        top.shapes(ly).insert(pya.Box(0, 0, 1*factor, 1*factor))\n",
    "        top.shapes(ly).insert(pya.Box(mask_size-1*factor, mask_size-1*factor, mask_size, mask_size))\n",
    "\n",
    "##################################  Get Boolean of Oxide  ###################################\n",
    "# obj_cell = layout.create_cell(\"OBJ\")\n",
    "# obj_cell.copy_tree(layout.cell(\"TOP\"))\n",
    "# idx = obj_cell.cell_index()\n",
    "# all_mask = obj_cell.flatten(idx)\n",
    "# oxide = pya.Region(mask_bound) ^ pya.Region(all_mask.shapes(l40))\n",
    "# top.shapes(l41).insert(oxide)\n",
    "#############################################################################################\n",
    "\n",
    "layout.write(\"test.gds\")"
   ]
  },
  {
   "cell_type": "code",
   "execution_count": 12,
   "metadata": {},
   "outputs": [
    {
     "data": {
      "text/plain": [
       "<klayout.dbcore.Layout at 0x18e78696960>"
      ]
     },
     "execution_count": 12,
     "metadata": {},
     "output_type": "execute_result"
    }
   ],
   "source": [
    "obj_cell = layout.create_cell(\"OBJ\")\n",
    "obj_cell.copy_tree(layout.cell(\"TOP\"))\n",
    "idx = obj_cell.cell_index()\n",
    "all_mask = obj_cell.flatten(idx)\n",
    "\n",
    "f = open(\"../mask_lyp.lyp\")\n",
    "lines = f.read()\n",
    "f.close()\n",
    "\n",
    "for ly in ly_list:\n",
    "    ly_data = str(layout.get_info(ly))\n",
    "    if int(ly_data.split('/')[0]) > 0 and int(ly_data.split('/')[0]) <1000 and ly_data.split('/')[1] == '0':\n",
    "        obj_ly = all_mask.shapes(ly)\n",
    "        end_idx = lines.find(ly_data)\n",
    "        # print(end_idx)\n",
    "        beg_idx = lines.rfind(\">\",0,end_idx)\n",
    "        # print(beg_idx)\n",
    "        ly_name = lines[beg_idx+1:end_idx-1]\n",
    "        # print(ly_name)\n",
    "        newcell = layout.create_cell(ly_data.replace(\"/\",\"_\")+\"_\"+ly_name)\n",
    "        newcell.shapes(ly).insert(obj_ly.transform(pya.Trans(mask_size, 0)*pya.Trans.M90))\n",
    "        # newcell.shapes(l00).insert(mask_bound)\n",
    "        # newcell.shapes(l01).insert(wafer_bound)\n",
    "        newcell.write(ly_data.replace(\"/\",\"_\")+\"_\"+ly_name+\".gds\")\n",
    "        layout.delete_cell(newcell.cell_index()) # if not delete cell, duplicated single layer cells will be created.\n",
    "\n",
    "layout.delete_cell(obj_cell.cell_index()) # if not delete cell, duplicated OBJ cells will be created.\n",
    "layout.write(\"test2.gds\")\n"
   ]
  },
  {
   "cell_type": "code",
   "execution_count": null,
   "metadata": {},
   "outputs": [],
   "source": []
  }
 ],
 "metadata": {
  "kernelspec": {
   "display_name": "Python 3.10.6 64-bit",
   "language": "python",
   "name": "python3"
  },
  "language_info": {
   "codemirror_mode": {
    "name": "ipython",
    "version": 3
   },
   "file_extension": ".py",
   "mimetype": "text/x-python",
   "name": "python",
   "nbconvert_exporter": "python",
   "pygments_lexer": "ipython3",
   "version": "3.10.6"
  },
  "orig_nbformat": 4,
  "vscode": {
   "interpreter": {
    "hash": "0f89655066fe58fd4a202f13d53c89e32c73942fe4280bac65de00cfff3d69ec"
   }
  }
 },
 "nbformat": 4,
 "nbformat_minor": 2
}
